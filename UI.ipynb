{
 "cells": [
  {
   "cell_type": "code",
   "execution_count": 1,
   "metadata": {},
   "outputs": [
    {
     "data": {
      "text/html": [
       "\n",
       "<style>\n",
       ".widget-label {\n",
       "    min-width: 300px !important;\n",
       "}\n",
       "</style>\n"
      ],
      "text/plain": [
       "<IPython.core.display.HTML object>"
      ]
     },
     "metadata": {},
     "output_type": "display_data"
    },
    {
     "data": {
      "application/vnd.jupyter.widget-view+json": {
       "model_id": "689fd63bfcca4949acba9e3307c04a96",
       "version_major": 2,
       "version_minor": 0
      },
      "text/plain": [
       "VBox(children=(FloatText(value=0.0, description='Непогашенная задолженность', layout=Layout(width='400px')), F…"
      ]
     },
     "metadata": {},
     "output_type": "display_data"
    },
    {
     "data": {
      "application/vnd.jupyter.widget-view+json": {
       "model_id": "0642b4c74cce46fca1c7fcb90ec4051b",
       "version_major": 2,
       "version_minor": 0
      },
      "text/plain": [
       "Button(description='Предсказать кредитный рейтинг', layout=Layout(width='400px'), style=ButtonStyle())"
      ]
     },
     "metadata": {},
     "output_type": "display_data"
    },
    {
     "name": "stdout",
     "output_type": "stream",
     "text": [
      "Предсказанный кредитный рейтинг: Хороший\n"
     ]
    }
   ],
   "source": [
    "import ipywidgets as widgets\n",
    "from IPython.display import display, HTML\n",
    "import pandas as pd\n",
    "import xgboost as xgb\n",
    "from sklearn.preprocessing import LabelEncoder, OrdinalEncoder\n",
    "import joblib\n",
    "\n",
    "# Загрузка модели и энкодеров\n",
    "model = xgb.XGBClassifier()\n",
    "model.load_model(\"FinalModel.json\")\n",
    "\n",
    "enc = joblib.load(r'c:/KR/encoder.joblib')  # Путь к файлу encoder.joblib\n",
    "le = joblib.load(r'c:/KR/label_encoder.joblib') # Путь к файлу label_encoder.joblib\n",
    "\n",
    "# Явно задаем selected\n",
    "selected = ['Outstanding_Debt', 'Total_EMI_per_month', 'Interest_Rate',\n",
    "            'Monthly_Inhand_Salary', 'Credit_Mix', 'Delay_from_due_date',\n",
    "            'Amount_invested_monthly', 'Num_Credit_Inquiries',\n",
    "            'Credit_History_Age', 'Num_Credit_Card', 'Payment_of_Min_Amount',\n",
    "            'Changed_Credit_Limit']\n",
    "\n",
    "# Запоминаем порядок столбцов\n",
    "feature_order = ['Outstanding_Debt', 'Total_EMI_per_month', 'Interest_Rate', 'Monthly_Inhand_Salary', 'Credit_Mix', 'Delay_from_due_date', 'Amount_invested_monthly', 'Num_Credit_Inquiries', 'Credit_History_Age', 'Num_Credit_Card', 'Payment_of_Min_Amount', 'Changed_Credit_Limit']\n",
    "\n",
    "# Создаем OrdinalEncoder для UI с категориями из обученного enc\n",
    "enc_ui = OrdinalEncoder(categories=enc.categories, handle_unknown='use_encoded_value', unknown_value=-1)\n",
    "\n",
    "# Перевод названий признаков для пользовательского интерфейса\n",
    "feature_translations = {\n",
    "    'Outstanding_Debt': 'Непогашенная задолженность',\n",
    "    'Total_EMI_per_month': 'Общая сумма ежемесячных платежей по кредиту',\n",
    "    'Interest_Rate': 'Процентная ставка',\n",
    "    'Monthly_Inhand_Salary': 'Ежемесячный доход',\n",
    "    'Credit_Mix': 'Качество кредитного портфеля',\n",
    "    'Delay_from_due_date': 'Просрочка платежа (в днях)',\n",
    "    'Amount_invested_monthly': 'Сумма ежемесячных инвестиций',\n",
    "    'Num_Credit_Inquiries': 'Количество кредитных запросов',\n",
    "    'Credit_History_Age': 'Возраст кредитной истории (в месяцах)',\n",
    "    'Num_Credit_Card': 'Количество кредитных карт',\n",
    "    'Payment_of_Min_Amount': 'Оплата минимального платежа',\n",
    "    'Changed_Credit_Limit': 'Изменение кредитного лимита'\n",
    "}\n",
    "\n",
    "def predict_credit_score(button):\n",
    "    input_data = {}\n",
    "    for feature in selected:\n",
    "        input_data[feature] = input_widgets[feature].value\n",
    "\n",
    "    # Преобразование в DataFrame\n",
    "    input_df = pd.DataFrame(input_data, index=[0])\n",
    "\n",
    "    # Кодирование категориальных признаков с помощью enc_ui\n",
    "    cat_features = ['Credit_Mix', 'Payment_of_Min_Amount']\n",
    "    input_df[cat_features] = enc_ui.fit_transform(input_df[cat_features])\n",
    "\n",
    "    # Приведение порядка признаков в соответствие\n",
    "    input_df = input_df[feature_order]\n",
    "\n",
    "    # Предсказание\n",
    "    prediction = model.predict(input_df)\n",
    "    # Преобразование числового предсказания в текстовую метку\n",
    "    dict = {0:'Хороший',1:'Плохой',2:'Стандартный'}\n",
    "    credit_score = dict[prediction[0]]\n",
    "\n",
    "    print('Предсказанный кредитный рейтинг:', credit_score)  # Вывод текстовой метки\n",
    "\n",
    "display(HTML(\"\"\"\n",
    "<style>\n",
    ".widget-label {\n",
    "    min-width: 300px !important;\n",
    "}\n",
    "</style>\n",
    "\"\"\"))\n",
    "input_widgets = {}\n",
    "\n",
    "for feature in selected:\n",
    "    if feature in ['Credit_Mix', 'Payment_of_Min_Amount']:\n",
    "        # Dropdown для категориальных признаков\n",
    "        # ВАЖНО: Замените эти значения на актуальные категории из вашего датасета\n",
    "        unique_values = ['Good', 'Bad', 'Standard'] if feature == 'Credit_Mix' else ['Yes', 'No', 'NM']\n",
    "        input_widgets[feature] = widgets.Dropdown(\n",
    "            options=unique_values,\n",
    "            description=feature_translations[feature] + ':',\n",
    "            layout=widgets.Layout(width='400px')\n",
    "        )\n",
    "    else:\n",
    "        # FloatText для числовых признаков\n",
    "        # ВАЖНО: Замените эти значения на актуальные границы из вашего датасета\n",
    "        min_val = 0\n",
    "        max_val = 5000\n",
    "        input_widgets[feature] = widgets.FloatText(\n",
    "            description=feature_translations[feature],\n",
    "            layout=widgets.Layout(width='400px')\n",
    "        )\n",
    "\n",
    "# Вывод виджетов\n",
    "display(widgets.VBox(list(input_widgets.values())))\n",
    "\n",
    "predict_button = widgets.Button(description=\"Предсказать кредитный рейтинг\", layout=widgets.Layout(width='400px'))\n",
    "predict_button.on_click(predict_credit_score)\n",
    "display(predict_button)"
   ]
  }
 ],
 "metadata": {
  "kernelspec": {
   "display_name": "Python 3 (ipykernel)",
   "language": "python",
   "name": "python3"
  },
  "language_info": {
   "codemirror_mode": {
    "name": "ipython",
    "version": 3
   },
   "file_extension": ".py",
   "mimetype": "text/x-python",
   "name": "python",
   "nbconvert_exporter": "python",
   "pygments_lexer": "ipython3",
   "version": "3.11.7"
  }
 },
 "nbformat": 4,
 "nbformat_minor": 2
}
