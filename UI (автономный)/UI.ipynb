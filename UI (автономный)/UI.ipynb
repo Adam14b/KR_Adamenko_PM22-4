{
 "cells": [
  {
   "cell_type": "code",
   "execution_count": 2,
   "metadata": {},
   "outputs": [
    {
     "name": "stderr",
     "output_type": "stream",
     "text": [
      "/Users/daniiladamenko/anaconda3/lib/python3.10/site-packages/sklearn/base.py:299: UserWarning: Trying to unpickle estimator OrdinalEncoder from version 1.2.2 when using version 1.2.1. This might lead to breaking code or invalid results. Use at your own risk. For more info please refer to:\n",
      "https://scikit-learn.org/stable/model_persistence.html#security-maintainability-limitations\n",
      "  warnings.warn(\n",
      "/Users/daniiladamenko/anaconda3/lib/python3.10/site-packages/sklearn/base.py:299: UserWarning: Trying to unpickle estimator LabelEncoder from version 1.2.2 when using version 1.2.1. This might lead to breaking code or invalid results. Use at your own risk. For more info please refer to:\n",
      "https://scikit-learn.org/stable/model_persistence.html#security-maintainability-limitations\n",
      "  warnings.warn(\n"
     ]
    },
    {
     "data": {
      "text/html": [
       "\n",
       "<style>\n",
       ".widget-label {\n",
       "    min-width: 300px !important;\n",
       "}\n",
       "</style>\n"
      ],
      "text/plain": [
       "<IPython.core.display.HTML object>"
      ]
     },
     "metadata": {},
     "output_type": "display_data"
    },
    {
     "data": {
      "application/vnd.jupyter.widget-view+json": {
       "model_id": "4eea3926cb514b32819a329f47692c8a",
       "version_major": 2,
       "version_minor": 0
      },
      "text/plain": [
       "VBox(children=(FloatText(value=0.0, description='Непогашенная задолженность', layout=Layout(width='400px')), F…"
      ]
     },
     "metadata": {},
     "output_type": "display_data"
    },
    {
     "data": {
      "application/vnd.jupyter.widget-view+json": {
       "model_id": "00598d6a3f7c4c64a40b797a7ae5b7cd",
       "version_major": 2,
       "version_minor": 0
      },
      "text/plain": [
       "Button(description='Предсказать кредитный рейтинг', layout=Layout(width='400px'), style=ButtonStyle())"
      ]
     },
     "metadata": {},
     "output_type": "display_data"
    }
   ],
   "source": [
    "import ipywidgets as widgets\n",
    "from IPython.display import display, HTML\n",
    "import pandas as pd\n",
    "import xgboost as xgb\n",
    "from sklearn.preprocessing import LabelEncoder, OrdinalEncoder\n",
    "import joblib\n",
    "\n",
    "# Загрузка модели и энкодеров\n",
    "model = xgb.XGBClassifier()\n",
    "model.load_model(\"/Users/daniiladamenko/Documents/Курсовая Работа Адаменко ПМ22-4/KR_Adamenko_PM22-4/FinalModel.json\") #путь к файлу FinalModel.json\n",
    "\n",
    "enc = joblib.load('/Users/daniiladamenko/Documents/Курсовая Работа Адаменко ПМ22-4/KR_Adamenko_PM22-4/encoder.joblib')  # Путь к файлу encoder.joblib\n",
    "le = joblib.load('/Users/daniiladamenko/Documents/Курсовая Работа Адаменко ПМ22-4/KR_Adamenko_PM22-4/label_encoder.joblib') # Путь к файлу label_encoder.joblib\n",
    "\n",
    "selected = ['Outstanding_Debt', 'Total_EMI_per_month', 'Interest_Rate',\n",
    "            'Monthly_Inhand_Salary', 'Credit_Mix', 'Delay_from_due_date',\n",
    "            'Amount_invested_monthly', 'Num_Credit_Inquiries',\n",
    "            'Credit_History_Age', 'Num_Credit_Card', 'Payment_of_Min_Amount',\n",
    "            'Changed_Credit_Limit']\n",
    "\n",
    "feature_order = ['Outstanding_Debt', 'Total_EMI_per_month', 'Interest_Rate', 'Monthly_Inhand_Salary', 'Credit_Mix', 'Delay_from_due_date', 'Amount_invested_monthly', 'Num_Credit_Inquiries', 'Credit_History_Age', 'Num_Credit_Card', 'Payment_of_Min_Amount', 'Changed_Credit_Limit']\n",
    "\n",
    "enc_ui = OrdinalEncoder(categories=enc.categories, handle_unknown='use_encoded_value', unknown_value=-1)\n",
    "\n",
    "feature_translations = {\n",
    "    'Outstanding_Debt': 'Непогашенная задолженность',\n",
    "    'Total_EMI_per_month': 'Общая сумма ежемесячных платежей по кредиту',\n",
    "    'Interest_Rate': 'Процентная ставка',\n",
    "    'Monthly_Inhand_Salary': 'Ежемесячный доход',\n",
    "    'Credit_Mix': 'Качество кредитного портфеля',\n",
    "    'Delay_from_due_date': 'Просрочка платежа (в днях)',\n",
    "    'Amount_invested_monthly': 'Сумма ежемесячных инвестиций',\n",
    "    'Num_Credit_Inquiries': 'Количество кредитных запросов',\n",
    "    'Credit_History_Age': 'Возраст кредитной истории (в месяцах)',\n",
    "    'Num_Credit_Card': 'Количество кредитных карт',\n",
    "    'Payment_of_Min_Amount': 'Оплата минимального платежа',\n",
    "    'Changed_Credit_Limit': 'Изменение кредитного лимита'\n",
    "}\n",
    "\n",
    "def predict_credit_score(button):\n",
    "    input_data = {}\n",
    "    for feature in selected:\n",
    "        input_data[feature] = input_widgets[feature].value\n",
    "    input_df = pd.DataFrame(input_data, index=[0])\n",
    "    cat_features = ['Credit_Mix', 'Payment_of_Min_Amount']\n",
    "    input_df[cat_features] = enc_ui.fit_transform(input_df[cat_features])\n",
    "    input_df = input_df[feature_order]\n",
    "    prediction = model.predict(input_df)\n",
    "    dict = {0:'Хороший',1:'Плохой',2:'Стандартный'}\n",
    "    credit_score = dict[prediction[0]]\n",
    "\n",
    "    print('Предсказанный кредитный рейтинг:', credit_score) \n",
    "\n",
    "display(HTML(\"\"\"\n",
    "<style>\n",
    ".widget-label {\n",
    "    min-width: 300px !important;\n",
    "}\n",
    "</style>\n",
    "\"\"\"))\n",
    "input_widgets = {}\n",
    "\n",
    "for feature in selected:\n",
    "    if feature in ['Credit_Mix', 'Payment_of_Min_Amount']:\n",
    "        unique_values = ['Good', 'Bad', 'Standard'] if feature == 'Credit_Mix' else ['Yes', 'No', 'NM']\n",
    "        input_widgets[feature] = widgets.Dropdown(\n",
    "            options=unique_values,\n",
    "            description=feature_translations[feature] + ':',\n",
    "            layout=widgets.Layout(width='400px')\n",
    "        )\n",
    "    else:\n",
    "        min_val = 0\n",
    "        max_val = 5000\n",
    "        input_widgets[feature] = widgets.FloatText(\n",
    "            description=feature_translations[feature],\n",
    "            layout=widgets.Layout(width='400px')\n",
    "        )\n",
    "\n",
    "display(widgets.VBox(list(input_widgets.values())))\n",
    "\n",
    "predict_button = widgets.Button(description=\"Предсказать кредитный рейтинг\", layout=widgets.Layout(width='400px'))\n",
    "predict_button.on_click(predict_credit_score)\n",
    "display(predict_button)"
   ]
  },
  {
   "cell_type": "code",
   "execution_count": null,
   "metadata": {},
   "outputs": [],
   "source": []
  }
 ],
 "metadata": {
  "kernelspec": {
   "display_name": "Python 3 (ipykernel)",
   "language": "python",
   "name": "python3"
  },
  "language_info": {
   "codemirror_mode": {
    "name": "ipython",
    "version": 3
   },
   "file_extension": ".py",
   "mimetype": "text/x-python",
   "name": "python",
   "nbconvert_exporter": "python",
   "pygments_lexer": "ipython3",
   "version": "3.10.9"
  }
 },
 "nbformat": 4,
 "nbformat_minor": 2
}
